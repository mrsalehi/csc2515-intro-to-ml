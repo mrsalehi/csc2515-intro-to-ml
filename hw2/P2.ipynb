{
 "cells": [
  {
   "cell_type": "markdown",
   "id": "inner-reserve",
   "metadata": {},
   "source": [
    "## P2. Locally Weighted Regression"
   ]
  },
  {
   "cell_type": "markdown",
   "id": "contrary-wagner",
   "metadata": {},
   "source": [
    "Similar to what we had in ordinary linear regression, we can write the matrix notation of loss and take the derivative of it w.r.t. the weights $w$. Note that we have:\n",
    "\n",
    "$$\\frac{1}{2} \\sum_{i=1}^{n}a^{(i)}(y^{(i)} - \\mathbf{w}^T\\mathbf{x}^{(i)})^2 + \\frac{\\lambda}{2} ||\\mathbf{w}|| ^ 2$$\n",
    "$$= (y - \\mathbf{X}w) A (y - \\mathbf{X}w)^T + \\frac{\\lambda}{2} \\mathbf{w}^T\\mathbf{w}$$\n",
    "\n",
    "We can simplify the first term as the following:\n",
    "\n",
    "$$= (y - \\mathbf{X}\\mathbf{w})^T A (y - \\mathbf{X}\\mathbf{w})$$\n",
    "$$= (y^T - \\mathbf{w}^T\\mathbf{X}^T) A (y - \\mathbf{X}\\mathbf{w})$$\n",
    "$$= (y^TAy - \\mathbf{w}^T\\mathbf{X}^T A y - y^T A \\mathbf{X}\\mathbf{w} + \\mathbf{w}^T\\mathbf{X}^TA \\mathbf{X}\\mathbf{w})$$\n",
    "\n",
    "Note that $\\mathbf{w}^T\\mathbf{X}^T A y$ and $y^T A \\mathbf{X}\\mathbf{w}$ are $1 \\times 1$ matrices and transpose of each other. Therefore they are equal. Thus we can write $\\mathbf{w}^*$ as following:\n",
    "\n",
    "$$\\mathbf{w}^* = argmin \\frac{1}{2}(y^TAy - 2\\mathbf{w}^T\\mathbf{X}^T A y + \\mathbf{w}^T\\mathbf{X}^TA \\mathbf{X}\\mathbf{w}) + \\frac{\\lambda}{2} \\mathbf{w}^T\\mathbf{w}$$.\n",
    "\n",
    "\n",
    "To solve it, we can take the derivative w.r.t. $\\mathbf{w}$ and set it equal to zero:\n",
    "\n",
    "$$\\mathbf{X}^TA \\mathbf{X}\\mathbf{w} + \\lambda \\mathbf{w} = \\mathbf{X}^T A y$$\n",
    "\n",
    "Thus:\n",
    "$$(\\mathbf{X}^TA \\mathbf{X} + \\lambda \\mathbf{I})\\mathbf{w} = \\mathbf{X}^T A y$$\n",
    "\n",
    "We can easily multiply both sides by $(\\mathbf{X}^TA \\mathbf{X} + \\lambda \\mathbf{I})^{-1}$ and get the formula for $\\mathbf{w}^*$.\n"
   ]
  },
  {
   "cell_type": "markdown",
   "id": "thrown-relation",
   "metadata": {},
   "source": [
    "Note: I have copied the code of q2.py here as well."
   ]
  },
  {
   "cell_type": "code",
   "execution_count": 1,
   "id": "double-indiana",
   "metadata": {},
   "outputs": [
    {
     "name": "stderr",
     "output_type": "stream",
     "text": [
      "  0%|          | 1/200 [00:00<02:52,  1.16it/s]"
     ]
    },
    {
     "name": "stdout",
     "output_type": "stream",
     "text": [
      "Validation loss: 5269.391638980311\n",
      "Train loss: 233.33631815494945\n"
     ]
    },
    {
     "name": "stderr",
     "output_type": "stream",
     "text": [
      "100%|██████████| 200/200 [03:08<00:00,  1.06it/s]\n"
     ]
    },
    {
     "data": {
      "image/png": "[encoded data removed]",
      "text/plain": [
       "<Figure size 432x288 with 1 Axes>"
      ]
     },
     "metadata": {
      "needs_background": "light"
     },
     "output_type": "display_data"
    }
   ],
   "source": [
    "# -*- coding: utf-8 -*-\n",
    "\"\"\"\n",
    "Created on Tue Sep 12 20:39:09 2017\n",
    "\n",
    "\"\"\"\n",
    "from __future__ import print_function\n",
    "import matplotlib.pyplot as plt\n",
    "import numpy as np\n",
    "from sklearn.datasets import load_boston\n",
    "from scipy.special import logsumexp\n",
    "from tqdm import tqdm \n",
    "\n",
    "np.random.seed(0)\n",
    "\n",
    "# load boston housing prices dataset\n",
    "boston = load_boston()\n",
    "x = boston['data']\n",
    "N = x.shape[0]\n",
    "x = np.concatenate((np.ones((506,1)),x),axis=1) #add constant one feature - no bias needed\n",
    "d = x.shape[1]\n",
    "y = boston['target']\n",
    "\n",
    "idx = np.random.permutation(range(N))\n",
    "\n",
    "#helper function\n",
    "def l2(A,B):\n",
    "    '''\n",
    "    Input: A is a Nxd matrix\n",
    "           B is a Mxd matirx\n",
    "    Output: dist is a NxM matrix where dist[i,j] is the square norm between A[i,:] and B[j,:]\n",
    "    i.e. dist[i,j] = ||A[i,:]-B[j,:]||^2\n",
    "    '''\n",
    "    A_norm = (A**2).sum(axis=1).reshape(A.shape[0],1)\n",
    "    B_norm = (B**2).sum(axis=1).reshape(1,B.shape[0])\n",
    "    dist = A_norm+B_norm-2*A.dot(B.transpose())\n",
    "    return dist\n",
    "\n",
    " \n",
    "def LRLS(test_datum,x_train,y_train, tau,lam=1e-5):\n",
    "    '''\n",
    "    Input: test_datum is a dx1 test vector\n",
    "           x_train is the N_train x d design matrix\n",
    "           y_train is the N_train x 1 targets vector\n",
    "           tau is the local reweighting parameter\n",
    "           lam is the regularization parameter\n",
    "    output is y_hat the prediction on test_datum\n",
    "    '''\n",
    "    ## TODO\n",
    "    n_train = x_train.shape[0]\n",
    "\n",
    "    a = -l2(test_datum.reshape(1, -1), x_train) / (2 * tau ** 2)  # shape: (1, N)\n",
    "    a -= np.max(a)  # shape: (1, N)\n",
    "    a = np.exp(a - logsumexp(a))  # shape: (1, N)\n",
    "    \n",
    "    A = np.eye(n_train) * a  # shape: (N, N)\n",
    "\n",
    "    w_star = np.linalg.inv(x_train.T @ A @ x_train + lam * np.eye(d)) @ x_train.T @ A @ y_train\n",
    "\n",
    "    return test_datum.T @ w_star\n",
    "    ## TODO\n",
    "\n",
    "\n",
    "def run_validation(x,y,taus,val_frac):\n",
    "    '''\n",
    "    Input: x is the N x d design matrix\n",
    "           y is the N x 1 targets vector    \n",
    "           taus is a vector of tau values to evaluate\n",
    "           val_frac is the fraction of examples to use as validation data\n",
    "    output is\n",
    "           a vector of training losses, one for each tau value\n",
    "           a vector of validation losses, one for each tau value\n",
    "    '''\n",
    "    ## TODO\n",
    "    val_idx, train_idx = idx[:int(val_frac * N)], idx[int(val_frac * N):]\n",
    "    x_val, y_val = x[val_idx], y[val_idx]\n",
    "    x_train, y_train = x[train_idx], y[train_idx]\n",
    "    \n",
    "    losses_train = []\n",
    "    losses_val = []\n",
    "\n",
    "    with tqdm(total=len(taus)) as pbar:\n",
    "        for tau in taus:\n",
    "            loss_val = 0.\n",
    "            for test_datum, t in zip(x_val, y_val):\n",
    "                y_hat = LRLS(test_datum, x_train, y_train, tau)\n",
    "                loss_val += (y_hat - t) ** 2\n",
    "            losses_val.append(loss_val/len(x_val))\n",
    "\n",
    "            loss_train = 0.\n",
    "            for test_datum, t in zip(x_train, y_train):\n",
    "                y_hat = LRLS(test_datum, x_train, y_train, tau)\n",
    "                loss_train += (y_hat - t) ** 2\n",
    "            losses_train.append(loss_train/len(x_train))\n",
    "            \n",
    "            if tau == 10.:\n",
    "                print('Validation loss:', loss_val)\n",
    "                print('Train loss:', loss_train)\n",
    "            \n",
    "            pbar.update(1)\n",
    "\n",
    "    return losses_train, losses_val\n",
    "    ## TODO\n",
    "\n",
    "\n",
    "\n",
    "# In this excersice we fixed lambda (hard coded to 1e-5) and only set tau value. Feel free to play with lambda as well if you wish\n",
    "taus = np.logspace(1.0,3,200)\n",
    "train_losses, test_losses = run_validation(x,y,taus,val_frac=0.3)\n",
    "plt.semilogx(train_losses, label='Train Loss')\n",
    "plt.semilogx(test_losses, label='Validation Loss')\n",
    "plt.legend()\n",
    "plt.show()\n"
   ]
  },
  {
   "cell_type": "markdown",
   "id": "directed-cartridge",
   "metadata": {},
   "source": [
    "For $\\tau=10$, validation loss is 5269.39 and training loss is 233.33."
   ]
  },
  {
   "cell_type": "markdown",
   "id": "agricultural-billy",
   "metadata": {},
   "source": [
    "As the plot shows, the training loss curve first comes down and then goes up. This stems from the fact that for very small values of $\\tau$, we have overfitting since we just consider only close neighbors to a given data point (weights of closer points are much bigger than the weights of farther points). When $\\tau$ is very big, we have underfitting since the weights of different data points (far and close) become approximately equal. This setting is analogus to the ordinary linear regression where we have underfitting and cannot capture local linearities. However, somewhere in between we will have the best results where the model neither overfits nor underfits."
   ]
  }
 ],
 "metadata": {
  "kernelspec": {
   "display_name": "base",
   "language": "python",
   "name": "base"
  },
  "language_info": {
   "codemirror_mode": {
    "name": "ipython",
    "version": 3
   },
   "file_extension": ".py",
   "mimetype": "text/x-python",
   "name": "python",
   "nbconvert_exporter": "python",
   "pygments_lexer": "ipython3",
   "version": "3.7.5"
  },
  "toc": {
   "base_numbering": 1,
   "nav_menu": {},
   "number_sections": true,
   "sideBar": true,
   "skip_h1_title": false,
   "title_cell": "Table of Contents",
   "title_sidebar": "Contents",
   "toc_cell": false,
   "toc_position": {},
   "toc_section_display": true,
   "toc_window_display": false
  },
  "varInspector": {
   "cols": {
    "lenName": 16,
    "lenType": 16,
    "lenVar": 40
   },
   "kernels_config": {
    "python": {
     "delete_cmd_postfix": "",
     "delete_cmd_prefix": "del ",
     "library": "var_list.py",
     "varRefreshCmd": "print(var_dic_list())"
    },
    "r": {
     "delete_cmd_postfix": ") ",
     "delete_cmd_prefix": "rm(",
     "library": "var_list.r",
     "varRefreshCmd": "cat(var_dic_list()) "
    }
   },
   "types_to_exclude": [
    "module",
    "function",
    "builtin_function_or_method",
    "instance",
    "_Feature"
   ],
   "window_display": false
  }
 },
 "nbformat": 4,
 "nbformat_minor": 5
}
