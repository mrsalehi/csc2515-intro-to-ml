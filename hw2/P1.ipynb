{
 "cells": [
  {
   "cell_type": "markdown",
   "id": "contemporary-dollar",
   "metadata": {},
   "source": [
    "## P1"
   ]
  },
  {
   "cell_type": "code",
   "execution_count": 2,
   "id": "pursuant-adult",
   "metadata": {},
   "outputs": [],
   "source": [
    "from matplotlib import pyplot as plt\n",
    "import numpy as np"
   ]
  },
  {
   "cell_type": "code",
   "execution_count": 36,
   "id": "awful-improvement",
   "metadata": {},
   "outputs": [],
   "source": [
    "def huber_loss(delta, y, t): \n",
    "    a = y - t\n",
    "    \n",
    "    mask_le = (abs(a) <= delta).astype(int)\n",
    "    mask_g = 1 - mask_le\n",
    "    \n",
    "    return 0.5 * a ** 2 * mask_le + delta * (abs(a) - 0.5 * delta) * mask_g"
   ]
  },
  {
   "cell_type": "code",
   "execution_count": 37,
   "id": "quarterly-france",
   "metadata": {},
   "outputs": [],
   "source": [
    "lse = lambda y, t: 0.5 * (y - t) ** 2"
   ]
  },
  {
   "cell_type": "code",
   "execution_count": 39,
   "id": "ultimate-pulse",
   "metadata": {},
   "outputs": [
    {
     "data": {
      "image/png": "[encoded data removed]",
      "text/plain": [
       "<Figure size 432x288 with 1 Axes>"
      ]
     },
     "metadata": {
      "needs_background": "light"
     },
     "output_type": "display_data"
    }
   ],
   "source": [
    "y = np.linspace(-5, 5, 1001)\n",
    "t = 0\n",
    "\n",
    "plt.plot(y, lse(y, 0), label='lse')\n",
    "plt.plot(y, huber_loss(1, y, t), label='huber loss')\n",
    "plt.legend()\n",
    "plt.show()"
   ]
  },
  {
   "cell_type": "markdown",
   "id": "rolled-control",
   "metadata": {},
   "source": [
    "As we can see, huber loss does not penalize outliers as severely as least squarred error loss and therefore it is less sensitive to outliers."
   ]
  },
  {
   "cell_type": "code",
   "execution_count": null,
   "id": "virtual-battery",
   "metadata": {},
   "outputs": [],
   "source": []
  }
 ],
 "metadata": {
  "kernelspec": {
   "display_name": "base",
   "language": "python",
   "name": "base"
  },
  "language_info": {
   "codemirror_mode": {
    "name": "ipython",
    "version": 3
   },
   "file_extension": ".py",
   "mimetype": "text/x-python",
   "name": "python",
   "nbconvert_exporter": "python",
   "pygments_lexer": "ipython3",
   "version": "3.7.5"
  },
  "toc": {
   "base_numbering": 1,
   "nav_menu": {},
   "number_sections": true,
   "sideBar": true,
   "skip_h1_title": false,
   "title_cell": "Table of Contents",
   "title_sidebar": "Contents",
   "toc_cell": false,
   "toc_position": {},
   "toc_section_display": true,
   "toc_window_display": false
  },
  "varInspector": {
   "cols": {
    "lenName": 16,
    "lenType": 16,
    "lenVar": 40
   },
   "kernels_config": {
    "python": {
     "delete_cmd_postfix": "",
     "delete_cmd_prefix": "del ",
     "library": "var_list.py",
     "varRefreshCmd": "print(var_dic_list())"
    },
    "r": {
     "delete_cmd_postfix": ") ",
     "delete_cmd_prefix": "rm(",
     "library": "var_list.r",
     "varRefreshCmd": "cat(var_dic_list()) "
    }
   },
   "types_to_exclude": [
    "module",
    "function",
    "builtin_function_or_method",
    "instance",
    "_Feature"
   ],
   "window_display": false
  }
 },
 "nbformat": 4,
 "nbformat_minor": 5
}
